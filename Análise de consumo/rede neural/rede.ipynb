{
 "cells": [
  {
   "cell_type": "code",
   "execution_count": null,
   "metadata": {
    "colab": {
     "base_uri": "https://localhost:8080/",
     "height": 80
    },
    "colab_type": "code",
    "id": "8qgdYIMGsfmU",
    "outputId": "12c0353e-f9db-4b53-a238-4f4450721e4d"
   },
   "outputs": [],
   "source": [
    "import numpy as np\n",
    "import pandas as pd\n",
    "import matplotlib.pyplot as plt\n",
    "import tensorflow as tf\n",
    "from sklearn.preprocessing import StandardScaler"
   ]
  },
  {
   "cell_type": "markdown",
   "metadata": {
    "colab_type": "text",
    "id": "vU3aLXnJSnvZ"
   },
   "source": [
    "# CARREGANDO DADOS DE CONSUMOS MENSAIS"
   ]
  },
  {
   "cell_type": "code",
   "execution_count": null,
   "metadata": {
    "colab": {},
    "colab_type": "code",
    "id": "uipqHVjP1j6s"
   },
   "outputs": [],
   "source": [
    "base_url = '../consumo'"
   ]
  },
  {
   "cell_type": "code",
   "execution_count": null,
   "metadata": {
    "colab": {},
    "colab_type": "code",
    "id": "ruz1AZ_wtIp2"
   },
   "outputs": [],
   "source": [
    "maio_06 = np.genfromtxt(base_url + '/2016/05-maio.csv', delimiter=';')\n",
    "junho_06 = np.genfromtxt(base_url + '/2016/06-junho.csv', delimiter=';')\n",
    "julho_06 = np.genfromtxt(base_url + '/2016/07-julho.csv', delimiter=';')\n",
    "agosto_06 = np.genfromtxt(base_url + '/2016/08-agosto.csv', delimiter=';')\n",
    "setembro_06 = np.genfromtxt(base_url + '/2016/09-setembro.csv', delimiter=';')\n",
    "outubro_06 = np.genfromtxt(base_url + '/2016/10-outubro.csv', delimiter=';')\n",
    "novembro_06 = np.genfromtxt(base_url + '/2016/11-novembro.csv', delimiter=';')\n",
    "dezembro_06 = np.genfromtxt(base_url + '/2016/12-dezembro.csv', delimiter=';')"
   ]
  },
  {
   "cell_type": "code",
   "execution_count": null,
   "metadata": {
    "colab": {},
    "colab_type": "code",
    "id": "PFZIpSpFtJSA"
   },
   "outputs": [],
   "source": [
    "janeiro_07 = np.genfromtxt(base_url + '/2017/01-janeiro.csv', delimiter=';')\n",
    "fevereiro_07 = np.genfromtxt(base_url + '/2017/02-fevereiro.csv', delimiter=';')\n",
    "marco_07 = np.genfromtxt(base_url + '/2017/03-marco.csv', delimiter=';')\n",
    "abril_07 = np.genfromtxt(base_url + '/2017/04-abril.csv', delimiter=';')\n",
    "maio_07 = np.genfromtxt(base_url + '/2017/05-maio.csv', delimiter=';')\n",
    "junho_07 = np.genfromtxt(base_url + '/2017/06-junho.csv', delimiter=';')"
   ]
  },
  {
   "cell_type": "code",
   "execution_count": null,
   "metadata": {
    "colab": {},
    "colab_type": "code",
    "id": "ekFTY4XKpAgh"
   },
   "outputs": [],
   "source": [
    "janeiro_08 = np.genfromtxt(base_url + '/2018/01-janeiro.csv', delimiter=';')\n",
    "fevereiro_08 = np.genfromtxt(base_url + '/2018/02-fevereiro.csv', delimiter=';')\n",
    "marco_08 = np.genfromtxt(base_url + '/2018/03-marco.csv', delimiter=';')\n",
    "abril_08 = np.genfromtxt(base_url + '/2018/04-abril.csv', delimiter=';')\n",
    "maio_08 = np.genfromtxt(base_url + '/2018/05-maio.csv', delimiter=';')\n",
    "junho_08 = np.genfromtxt(base_url + '/2018/06-junho.csv', delimiter=';')\n",
    "julho_08 = np.genfromtxt(base_url + '/2018/07-julho.csv', delimiter=';')\n",
    "agosto_08 = np.genfromtxt(base_url + '/2018/08-agosto.csv', delimiter=';')\n",
    "setembro_08 = np.genfromtxt(base_url + '/2018/09-setembro.csv', delimiter=';')\n",
    "outubro_08 = np.genfromtxt(base_url + '/2018/10-outubro.csv', delimiter=';')\n",
    "novembro_08 = np.genfromtxt(base_url + '/2018/11-novembro.csv', delimiter=';')\n",
    "dezembro_08 = np.genfromtxt(base_url + '/2018/12-dezembro.csv', delimiter=';')"
   ]
  },
  {
   "cell_type": "code",
   "execution_count": null,
   "metadata": {
    "colab": {},
    "colab_type": "code",
    "id": "KpEguLa7tTLH"
   },
   "outputs": [],
   "source": [
    "janeiro_09 = np.genfromtxt(base_url + '/2019/01-janeiro.csv', delimiter=';')"
   ]
  },
  {
   "cell_type": "markdown",
   "metadata": {
    "colab_type": "text",
    "id": "70XnDEWXSug5"
   },
   "source": [
    "# SEPARANDO OS DADOS DE CONSUMOS MENSAIS DO RESTANTE DOS DADOS VINDOS DO EQUIPAMENTO"
   ]
  },
  {
   "cell_type": "code",
   "execution_count": null,
   "metadata": {
    "colab": {},
    "colab_type": "code",
    "id": "wFObYnuEvzoy"
   },
   "outputs": [],
   "source": [
    "verao = 6\n",
    "inverno = -2\n",
    "resto = 2"
   ]
  },
  {
   "cell_type": "code",
   "execution_count": null,
   "metadata": {
    "colab": {},
    "colab_type": "code",
    "id": "YR-VaDGctO83"
   },
   "outputs": [],
   "source": [
    "maio_06 = pd.DataFrame(maio_06[:, 2:5])\n",
    "maio_06.update(maio_06[:][2]*300)\n",
    "maio_06.update((maio_06[:][0]*0)+inverno)\n",
    "\n",
    "junho_06 = pd.DataFrame(junho_06[:, 2:5])\n",
    "junho_06.update(junho_06[:][2]*300)\n",
    "junho_06.update((junho_06[:][0]*0)+inverno)\n",
    "\n",
    "julho_06 = pd.DataFrame(julho_06[:, 2:5])\n",
    "julho_06.update(julho_06[:][2]*300)\n",
    "julho_06.update((julho_06[:][0]*0)+inverno)\n",
    "\n",
    "agosto_06 = pd.DataFrame(agosto_06[:, 2:5])\n",
    "agosto_06.update(agosto_06[:][2]*300)\n",
    "agosto_06.update((agosto_06[:][0]*0)+resto)\n",
    "\n",
    "setembro_06 = pd.DataFrame(setembro_06[:, 2:5])\n",
    "setembro_06.update(setembro_06[:][2]*300)\n",
    "setembro_06.update((setembro_06[:][0]*0)+resto)\n",
    "\n",
    "outubro_06 = pd.DataFrame(outubro_06[:, 2:5])\n",
    "outubro_06.update(outubro_06[:][2]*300)\n",
    "outubro_06.update((outubro_06[:][0]*0)+resto)\n",
    "\n",
    "novembro_06 = pd.DataFrame(novembro_06[:, 2:5])\n",
    "novembro_06.update(novembro_06[:][2]*300)\n",
    "novembro_06.update((novembro_06[:][0]*0)+verao)\n",
    "\n",
    "dezembro_06 = pd.DataFrame(dezembro_06[:, 2:5])\n",
    "dezembro_06.update(dezembro_06[:][2]*300)\n",
    "dezembro_06.update((dezembro_06[:][0]*0)+verao)"
   ]
  },
  {
   "cell_type": "code",
   "execution_count": null,
   "metadata": {
    "colab": {},
    "colab_type": "code",
    "id": "NKIomsG4tQL0"
   },
   "outputs": [],
   "source": [
    "janeiro_07 = pd.DataFrame(janeiro_07[:, 2:5])\n",
    "janeiro_07.update(janeiro_07[:][2]*300)\n",
    "janeiro_07.update((janeiro_07[:][0]*0)+verao)\n",
    "\n",
    "fevereiro_07 = pd.DataFrame(fevereiro_07[:, 2:5])\n",
    "fevereiro_07.update(fevereiro_07[:][2]*300)\n",
    "fevereiro_07.update((fevereiro_07[:][0]*0)+verao)\n",
    "\n",
    "marco_07 = pd.DataFrame(marco_07[:, 2:5])\n",
    "marco_07.update(marco_07[:][2]*300)\n",
    "marco_07.update((marco_07[:][0]*0)+resto)\n",
    "\n",
    "abril_07 = pd.DataFrame(abril_07[:, 2:5])\n",
    "abril_07.update(abril_07[:][2]*300)\n",
    "abril_07.update((abril_07[:][0]*0)+resto)\n",
    "\n",
    "maio_07 = pd.DataFrame(maio_07[:, 2:5])\n",
    "maio_07.update(maio_07[:][2]*300)\n",
    "maio_07.update((maio_07[:][0]*0)+inverno)\n",
    "\n",
    "junho_07 = pd.DataFrame(junho_07[:, 2:5])\n",
    "junho_07.update(junho_07[:][2]*300)\n",
    "junho_07.update((junho_07[:][0]*0)+inverno)"
   ]
  },
  {
   "cell_type": "code",
   "execution_count": null,
   "metadata": {
    "colab": {},
    "colab_type": "code",
    "id": "Fun1wniY0mxz"
   },
   "outputs": [],
   "source": [
    "janeiro_08 = pd.DataFrame(janeiro_08[:, 2:5])\n",
    "janeiro_08.update((janeiro_08[:][0]*0)+verao)\n",
    "\n",
    "fevereiro_08 = pd.DataFrame(fevereiro_08[:, 2:5])\n",
    "fevereiro_08.update((fevereiro_08[:][0]*0)+verao)\n",
    "\n",
    "marco_08 = pd.DataFrame(marco_08[:, 2:5])\n",
    "marco_08.update((marco_08[:][0]*0)+resto)\n",
    "\n",
    "abril_08 = pd.DataFrame(abril_08[:, 2:5])\n",
    "abril_08.update((abril_08[:][0]*0)+resto)\n",
    "\n",
    "maio_08 = pd.DataFrame(maio_08[:, 2:5])\n",
    "maio_08.update((maio_08[:][0]*0)+inverno)\n",
    "\n",
    "junho_08 = pd.DataFrame(junho_08[:, 2:5])\n",
    "junho_08.update((junho_08[:][0]*0)+inverno)\n",
    "\n",
    "julho_08 = pd.DataFrame(julho_08[:, 2:5])\n",
    "julho_08.update((julho_08[:][0]*0)+inverno)\n",
    "\n",
    "agosto_08 = pd.DataFrame(agosto_08[:, 2:5])\n",
    "agosto_08.update((agosto_08[:][0]*0)+resto)\n",
    "\n",
    "setembro_08 = pd.DataFrame(setembro_08[:, 2:5])\n",
    "setembro_08.update((setembro_08[:][0]*0)+resto)\n",
    "\n",
    "outubro_08 = pd.DataFrame(outubro_08[:, 2:5])\n",
    "outubro_08.update((outubro_08[:][0]*0)+resto)\n",
    "\n",
    "novembro_08 = pd.DataFrame(novembro_08[:, 2:5])\n",
    "novembro_08.update((novembro_08[:][0]*0)+verao)\n",
    "\n",
    "dezembro_08 = pd.DataFrame(dezembro_08[:, 2:5])\n",
    "dezembro_08.update((dezembro_08[:][0]*0)+verao)"
   ]
  },
  {
   "cell_type": "code",
   "execution_count": null,
   "metadata": {
    "colab": {},
    "colab_type": "code",
    "id": "fFrgbGZKtnIN"
   },
   "outputs": [],
   "source": [
    "janeiro_09 = pd.DataFrame(janeiro_09[:, 2:5])\n",
    "janeiro_09.update((janeiro_09[:][0]*0)+verao)"
   ]
  },
  {
   "cell_type": "markdown",
   "metadata": {
    "colab_type": "text",
    "id": "4KGin4-2S3f2"
   },
   "source": [
    "# VERIFICANDO A MÉDIA DOS CONSUMOS MENSAIS E SUBSTITUINDO OS TERMOS INVÁLIDOS PELO VALOR DA MÉDIA\n",
    "\n",
    "> obs.: A média é calculada desconsiderando os valores inválidos"
   ]
  },
  {
   "cell_type": "code",
   "execution_count": null,
   "metadata": {
    "colab": {},
    "colab_type": "code",
    "id": "XGSz1sUnttry"
   },
   "outputs": [],
   "source": [
    "media_maio_06 = maio_06[:][2].mean()\n",
    "maio_06.update(maio_06[:][2].fillna(media_maio_06))\n",
    "\n",
    "media_junho_06 = junho_06[:][2].mean()\n",
    "junho_06.update(junho_06[:][2].fillna(media_junho_06))\n",
    "\n",
    "media_julho_06 = julho_06[:][2].mean()\n",
    "julho_06.update(julho_06[:][2].fillna(media_julho_06))\n",
    "\n",
    "media_agosto_06 = agosto_06[:][2].mean()\n",
    "agosto_06.update(agosto_06[:][2].fillna(media_agosto_06))\n",
    "\n",
    "media_setembro_06 = setembro_06[:][2].mean()\n",
    "setembro_06.update(setembro_06[:][2].fillna(media_setembro_06))\n",
    "\n",
    "media_outubro_06 = outubro_06[:][2].mean()\n",
    "outubro_06.update(outubro_06[:][2].fillna(media_outubro_06))\n",
    "\n",
    "media_novembro_06 = novembro_06[:][2].mean()\n",
    "novembro_06.update(novembro_06[:][2].fillna(media_novembro_06))\n",
    "\n",
    "media_dezembro_06 = dezembro_06[:][2].mean()\n",
    "dezembro_06.update(dezembro_06[:][2].fillna(media_dezembro_06))"
   ]
  },
  {
   "cell_type": "code",
   "execution_count": null,
   "metadata": {
    "colab": {},
    "colab_type": "code",
    "id": "3XMwJInLtuif"
   },
   "outputs": [],
   "source": [
    "media_janeiro_07 = janeiro_07[:][2].mean()\n",
    "janeiro_07.update(janeiro_07[:][2].fillna(media_janeiro_07))\n",
    "\n",
    "media_fevereiro_07 = fevereiro_07[:][2].mean()\n",
    "fevereiro_07.update(fevereiro_07[:][2].fillna(media_fevereiro_07))\n",
    "\n",
    "media_marco_07 = marco_07[:][2].mean()\n",
    "marco_07.update(marco_07[:][2].fillna(media_marco_07))\n",
    "\n",
    "media_abril_07 = abril_07[:][2].mean()\n",
    "abril_07.update(abril_07[:][2].fillna(media_abril_07))\n",
    "\n",
    "media_maio_07 = maio_07[:][2].mean()\n",
    "maio_07.update(maio_07[:][2].fillna(media_maio_07))\n",
    "\n",
    "media_junho_07 = junho_07[:][2].mean()\n",
    "junho_07.update(junho_07[:][2].fillna(media_junho_07))"
   ]
  },
  {
   "cell_type": "code",
   "execution_count": null,
   "metadata": {
    "colab": {},
    "colab_type": "code",
    "id": "vxdaUPnr1NUJ"
   },
   "outputs": [],
   "source": [
    "media_janeiro_08 = janeiro_08[:][2].mean()\n",
    "janeiro_08.update(janeiro_08[:][2].fillna(media_janeiro_08))\n",
    "\n",
    "media_fevereiro_08 = fevereiro_08[:][2].mean()\n",
    "fevereiro_08.update(fevereiro_08[:][2].fillna(media_fevereiro_08))\n",
    "\n",
    "media_marco_08 = marco_08[:][2].mean()\n",
    "marco_08.update(marco_08[:][2].fillna(media_marco_08))\n",
    "\n",
    "media_abril_08 = abril_08[:][2].mean()\n",
    "abril_08.update(abril_08[:][2].fillna(media_abril_08))\n",
    "\n",
    "media_maio_08 = maio_08[:][2].mean()\n",
    "maio_08.update(maio_08[:][2].fillna(media_maio_08))\n",
    "\n",
    "media_junho_08 = junho_08[:][2].mean()\n",
    "junho_08.update(junho_08[:][2].fillna(media_junho_08))\n",
    "\n",
    "media_julho_08 = julho_08[:][2].mean()\n",
    "julho_08.update(julho_08[:][2].fillna(media_julho_08))\n",
    "\n",
    "media_agosto_08 = agosto_08[:][2].mean()\n",
    "agosto_08.update(agosto_08[:][2].fillna(media_agosto_08))\n",
    "\n",
    "media_setembro_08 = setembro_08[:][2].mean()\n",
    "setembro_08.update(setembro_08[:][2].fillna(media_setembro_08))\n",
    "\n",
    "media_outubro_08 = outubro_08[:][2].mean()\n",
    "outubro_08.update(outubro_08[:][2].fillna(media_outubro_08))\n",
    "\n",
    "media_novembro_08 = novembro_08[:][2].mean()\n",
    "novembro_08.update(novembro_08[:][2].fillna(media_novembro_08))\n",
    "\n",
    "media_dezembro_08 = dezembro_08[:][2].mean()\n",
    "dezembro_08.update(dezembro_08[:][2].fillna(media_dezembro_08))"
   ]
  },
  {
   "cell_type": "code",
   "execution_count": null,
   "metadata": {
    "colab": {},
    "colab_type": "code",
    "id": "0rZ0uer3twsS"
   },
   "outputs": [],
   "source": [
    "media_janeiro_09 = janeiro_09[:][2].mean()\n",
    "janeiro_09.update(janeiro_09[:][2].fillna(media_janeiro_09))"
   ]
  },
  {
   "cell_type": "markdown",
   "metadata": {
    "colab_type": "text",
    "id": "WSXTifZnTROm"
   },
   "source": [
    "# ORDENANDO OS DADOS DE CONSUMOS MENSAIS\n",
    "\n",
    "Os dados chegam invertidos, sendo que a primeira linha contem o dia 30/31 do mês, logo é necessário inverter a ordem, para assim a primeira linha referenciar ao inicio do mês."
   ]
  },
  {
   "cell_type": "code",
   "execution_count": null,
   "metadata": {
    "colab": {},
    "colab_type": "code",
    "id": "zI3v8vb1t0vO"
   },
   "outputs": [],
   "source": [
    "maio_06 = maio_06.iloc[::-1]\n",
    "junho_06 = junho_06.iloc[::-1]\n",
    "julho_06 = julho_06.iloc[::-1]\n",
    "agosto_06 = agosto_06.iloc[::-1]\n",
    "setembro_06 = setembro_06.iloc[::-1]\n",
    "outubro_06 = outubro_06.iloc[::-1]\n",
    "novembro_06 = novembro_06.iloc[::-1]\n",
    "dezembro_06 = dezembro_06.iloc[::-1]"
   ]
  },
  {
   "cell_type": "code",
   "execution_count": null,
   "metadata": {
    "colab": {},
    "colab_type": "code",
    "id": "6-P5GbMit1Pa"
   },
   "outputs": [],
   "source": [
    "janeiro_07 = janeiro_07.iloc[::-1]\n",
    "fevereiro_07 = fevereiro_07.iloc[::-1]\n",
    "marco_07 = marco_07.iloc[::-1]\n",
    "abril_07 = abril_07.iloc[::-1]\n",
    "maio_07 = maio_07.iloc[::-1]\n",
    "junho_07 = junho_07.iloc[::-1]"
   ]
  },
  {
   "cell_type": "code",
   "execution_count": null,
   "metadata": {
    "colab": {},
    "colab_type": "code",
    "id": "QgKO4m9u2kaJ"
   },
   "outputs": [],
   "source": [
    "janeiro_08 = janeiro_08.iloc[::-1]\n",
    "fevereiro_08 = fevereiro_08.iloc[::-1]\n",
    "marco_08 = marco_08.iloc[::-1]\n",
    "abril_08 = abril_08.iloc[::-1]\n",
    "maio_08 = maio_08.iloc[::-1]\n",
    "junho_08 = junho_08.iloc[::-1]\n",
    "julho_08 = julho_08.iloc[::-1]\n",
    "agosto_08 = agosto_08.iloc[::-1]\n",
    "setembro_08 = setembro_08.iloc[::-1]\n",
    "outubro_08 = outubro_08.iloc[::-1]\n",
    "novembro_08 = novembro_08.iloc[::-1]\n",
    "dezembro_08 = dezembro_08.iloc[::-1]"
   ]
  },
  {
   "cell_type": "code",
   "execution_count": null,
   "metadata": {
    "colab": {},
    "colab_type": "code",
    "id": "RnTo8rDjt3WD"
   },
   "outputs": [],
   "source": [
    "janeiro_09 = janeiro_09.iloc[::-1]"
   ]
  },
  {
   "cell_type": "markdown",
   "metadata": {
    "colab_type": "text",
    "id": "36j7r8ofTlEQ"
   },
   "source": [
    "# COLOCANDO OS DADOS EM SEQUÊNCIA\n",
    "\n",
    "Essa etapa visa colocar os dados mensais em sequência, assim gerando uma massa de dados anual."
   ]
  },
  {
   "cell_type": "code",
   "execution_count": null,
   "metadata": {
    "colab": {},
    "colab_type": "code",
    "id": "Ijc8mmnajtMC"
   },
   "outputs": [],
   "source": [
    "# criando DataFrame de 2016\n",
    "data2016 = pd.concat([maio_06, junho_06, julho_06, agosto_06,\n",
    "                      setembro_06, outubro_06, novembro_06, dezembro_06], ignore_index=True)\n",
    "\n",
    "# criando DataFrame de 2017\n",
    "data2017 = pd.concat([janeiro_07, fevereiro_07, marco_07,\n",
    "                      abril_07, maio_07, junho_07], ignore_index=True)\n",
    "\n",
    "# criando DataFrame de 2018\n",
    "data2018 = pd.concat([janeiro_08, fevereiro_08, marco_08,\n",
    "                      abril_08, maio_08, junho_08, julho_08, agosto_08,\n",
    "                      setembro_08, outubro_08, novembro_08, dezembro_08], ignore_index=True)\n",
    "\n",
    "# criando DataFrame de 2018\n",
    "data2019 = pd.concat([janeiro_09], ignore_index=True)"
   ]
  },
  {
   "cell_type": "code",
   "execution_count": null,
   "metadata": {},
   "outputs": [],
   "source": [
    "# grau_do_polinomio = 3\n",
    "# df1 = data2017.mean()[2]-data2016.mean()[2]\n",
    "# df2 = data2018.mean()[2]-data2016.mean()[2]\n",
    "# df3 = data2019.mean()[2]-data2016.mean()[2]\n",
    "# dfs = np.array([df1, df2, df3])\n",
    "# t = np.linspace(0,2,3)\n",
    "# p = np.polyfit(t, dfs, grau_do_polinomio)\n",
    "# ex = [i for i in range(grau_do_polinomio,-1,-1)]\n",
    "# ex = np.asarray(ex)"
   ]
  },
  {
   "cell_type": "code",
   "execution_count": null,
   "metadata": {},
   "outputs": [],
   "source": [
    "# def crescimentoAnual(numeroDoAno):\n",
    "#     return np.sum(p*(numeroDoAno**ex))"
   ]
  },
  {
   "cell_type": "code",
   "execution_count": null,
   "metadata": {},
   "outputs": [],
   "source": [
    "# data2016.update((data2016[:][1]*0)-1)\n",
    "# data2017.update((data2017[:][1]*0)+crescimentoAnual(0))\n",
    "# data2018.update((data2018[:][1]*0)+crescimentoAnual(1))\n",
    "\n",
    "data2016.update((data2016[:][1]*0)+0)\n",
    "data2017.update((data2017[:][1]*0)+1)\n",
    "data2018.update((data2018[:][1]*0)+2)"
   ]
  },
  {
   "cell_type": "code",
   "execution_count": null,
   "metadata": {
    "colab": {},
    "colab_type": "code",
    "id": "0LXaQ0r7uft8"
   },
   "outputs": [],
   "source": [
    "# data = pd.concat([data2016, data2017, data2018, data2019], ignore_index=True)\n",
    "data = pd.concat([data2016, data2017, data2018], ignore_index=True)"
   ]
  },
  {
   "cell_type": "markdown",
   "metadata": {
    "colab_type": "text",
    "id": "XTQstQ3IT_ik"
   },
   "source": [
    "# EXIBINDO GRÁFICOS MENSAIS DE CONSUMO DE 2018"
   ]
  },
  {
   "cell_type": "code",
   "execution_count": null,
   "metadata": {
    "colab": {
     "base_uri": "https://localhost:8080/",
     "height": 612
    },
    "colab_type": "code",
    "id": "ovN_6bjLuPUa",
    "outputId": "02aac1bd-a98e-4b90-c024-8890cdef3de3"
   },
   "outputs": [],
   "source": [
    "# plotando 2016\n",
    "plt.figure(figsize=(20,10))\n",
    "plt.rcParams.update({'font.size': 22})\n",
    "plt.plot(maio_06[:][2])\n",
    "plt.plot(junho_06[:][2])\n",
    "plt.plot(julho_06[:][2])\n",
    "plt.plot(agosto_06[:][2])\n",
    "plt.plot(setembro_06[:][2])\n",
    "plt.plot(outubro_06[:][2])\n",
    "plt.plot(novembro_06[:][2])\n",
    "plt.plot(dezembro_06[:][2])\n",
    "plt.title('Consumo mensal 2016')\n",
    "plt.savefig('graficos/consumo_mensal_2016.png')\n",
    "plt.show()"
   ]
  },
  {
   "cell_type": "code",
   "execution_count": null,
   "metadata": {
    "colab": {
     "base_uri": "https://localhost:8080/",
     "height": 612
    },
    "colab_type": "code",
    "id": "zHU_e43fuQOu",
    "outputId": "1929ea63-fe2b-425e-8a4d-095196409357"
   },
   "outputs": [],
   "source": [
    "# plotando 2017\n",
    "plt.figure(figsize=(20,10))\n",
    "plt.plot(janeiro_07[:][2])\n",
    "plt.plot(fevereiro_07[:][2])\n",
    "plt.plot(marco_07[:][2])\n",
    "plt.plot(abril_07[:][2])\n",
    "plt.plot(maio_07[:][2])\n",
    "plt.plot(junho_07[:][2])\n",
    "plt.title('Consumo mensal 2017')\n",
    "plt.savefig('graficos/consumo_mensal_2017.png')\n",
    "plt.show()"
   ]
  },
  {
   "cell_type": "code",
   "execution_count": null,
   "metadata": {
    "colab": {
     "base_uri": "https://localhost:8080/",
     "height": 612
    },
    "colab_type": "code",
    "id": "szHMibQlqWZK",
    "outputId": "fb7dc505-ceae-4f80-8369-fa37bb28cb4a"
   },
   "outputs": [],
   "source": [
    "#plot de 2018 por mes\n",
    "plt.figure(figsize=(20,10))\n",
    "plt.plot(janeiro_08[:][2])\n",
    "plt.plot(fevereiro_08[:][2])\n",
    "plt.plot(marco_08[:][2])\n",
    "plt.plot(abril_08[:][2])\n",
    "plt.plot(maio_08[:][2])\n",
    "plt.plot(junho_08[:][2])\n",
    "plt.plot(julho_08[:][2])\n",
    "plt.plot(agosto_08[:][2])\n",
    "plt.plot(setembro_08[:][2])\n",
    "plt.plot(outubro_08[:][2])\n",
    "plt.plot(novembro_08[:][2])\n",
    "plt.plot(dezembro_08[:][2])\n",
    "plt.title('Consumo mensal 2018')\n",
    "plt.savefig('graficos/consumo_mensal_2018.png')\n",
    "plt.show()"
   ]
  },
  {
   "cell_type": "code",
   "execution_count": null,
   "metadata": {
    "colab": {
     "base_uri": "https://localhost:8080/",
     "height": 612
    },
    "colab_type": "code",
    "id": "i2kh0ebAwn9F",
    "outputId": "f552d47f-7b43-4923-92a0-3f46147e9272",
    "scrolled": false
   },
   "outputs": [],
   "source": [
    "# plotando 2019\n",
    "plt.figure(figsize=(20,10))\n",
    "plt.plot(janeiro_09[:][2])\n",
    "plt.title('Consumo janeiro 2019')\n",
    "plt.savefig('graficos/consumo_janeiro_2019.png')\n",
    "plt.show()"
   ]
  },
  {
   "cell_type": "markdown",
   "metadata": {
    "colab_type": "text",
    "id": "2qqgizQ2UHv5"
   },
   "source": [
    "# EXIBINDO GRÁFICO ANUAL DE CONSUMO DE 2018"
   ]
  },
  {
   "cell_type": "code",
   "execution_count": null,
   "metadata": {},
   "outputs": [],
   "source": [
    "plt.figure(figsize=(20,10))\n",
    "plt.plot(data2018[2])\n",
    "plt.text(x=0,y=np.max(data2018[2]),s='Média: '+str(np.around(np.mean(data2018[2]), 2)), fontsize=20)\n",
    "plt.title('Consumo de 2018')\n",
    "plt.savefig('graficos/Consumo_de_2018.png')\n",
    "plt.show()"
   ]
  },
  {
   "cell_type": "code",
   "execution_count": null,
   "metadata": {
    "colab": {
     "base_uri": "https://localhost:8080/",
     "height": 627
    },
    "colab_type": "code",
    "id": "-PmP4lmHqZG7",
    "outputId": "a3f251b6-19ba-4228-f465-c4df5607e577",
    "scrolled": false
   },
   "outputs": [],
   "source": [
    "plt.figure(figsize=(20,10))\n",
    "plt.plot(data[2])\n",
    "plt.text(x=0,y=np.max(data[2])-10,s='Média: '+str(np.around(np.mean(data[2]), 2)), fontsize=20)\n",
    "plt.title('Consumo de todos os anos')\n",
    "plt.savefig('graficos/consumo_todos_os_anos.png')\n",
    "plt.show()"
   ]
  },
  {
   "cell_type": "code",
   "execution_count": null,
   "metadata": {
    "colab": {},
    "colab_type": "code",
    "id": "uMbFd5Azl2RK"
   },
   "outputs": [],
   "source": [
    "data = np.asarray(data)"
   ]
  },
  {
   "cell_type": "code",
   "execution_count": null,
   "metadata": {},
   "outputs": [],
   "source": [
    "media_data = np.mean(data[:, 2])\n",
    "for i in range(len(data)):\n",
    "    if data[i][2] < 50:\n",
    "        data[i][2] = media_data"
   ]
  },
  {
   "cell_type": "code",
   "execution_count": null,
   "metadata": {
    "scrolled": false
   },
   "outputs": [],
   "source": [
    "#plot de 2018 ano todo\n",
    "plt.figure(figsize=(20,10))\n",
    "plt.plot(data[:,2])\n",
    "plt.title('Consumo de todos os anos sem outliers')\n",
    "plt.text(x=0,y=np.max(data[:,2])-10,s='Média: '+str(np.around(np.mean(data[:,2]), 2)), fontsize=20)\n",
    "plt.savefig('graficos/consumo_todos_os_anos_sem_outliers.png')\n",
    "plt.show()"
   ]
  },
  {
   "cell_type": "code",
   "execution_count": null,
   "metadata": {},
   "outputs": [],
   "source": [
    "from sklearn.metrics import mean_absolute_error, mean_squared_error\n",
    "from sklearn.linear_model import LinearRegression\n",
    "from sklearn.preprocessing import PolynomialFeatures\n",
    "\n",
    "def regressionFunction(data, grauDoPolinomio):\n",
    "    x = np.linspace(0, data.shape[0], data.shape[0])\n",
    "    x = x.reshape(x.shape[0], 1)\n",
    "\n",
    "    # #-------------------------------Biblioteca------------------------------------#\n",
    "\n",
    "    # #--------------------Elevando as entradas a ordem degree----------------------#\n",
    "    # cada atributo será elevado a 1, 2, 3 e 4 criando assim 3 novos atributos, esse número é definido por escolha do programador\n",
    "    poly = PolynomialFeatures(degree=grauDoPolinomio)\n",
    "    x = poly.fit_transform(x)\n",
    "\n",
    "    # #---------------------------Criando o regressor-------------------------------#\n",
    "    regressor = LinearRegression()\n",
    "    regressor.fit(x, data)\n",
    "\n",
    "    # #----Ver a correlação do modelo com relação a base de dados de Treinamento----#\n",
    "    # score = regressor.score(x, data[:,2])\n",
    "    # print('A correlação do modelo com a base de dados de treinamento é de: {}'.format(score))\n",
    "\n",
    "    # #------------------------------Prevendo um valor------------------------------#\n",
    "    previsoes = regressor.predict(x)\n",
    "\n",
    "    # #------------------Diferança entre valores reais e previstos------------------#\n",
    "    # erro_absoluto = mean_absolute_error(data[:,2], previsoes)\n",
    "    # erro_quadratico = mean_squared_error(data[:,2], previsoes)\n",
    "    # print('Erro absoluto: {}'.format(erro_absoluto))\n",
    "    # print('Erro quadratico: {}'.format(erro_quadratico))\n",
    "    return previsoes"
   ]
  },
  {
   "cell_type": "code",
   "execution_count": null,
   "metadata": {
    "scrolled": false
   },
   "outputs": [],
   "source": [
    "previsoes = regressionFunction(data[:,2], 6)\n",
    "plt.figure(figsize=(20,10))\n",
    "plt.plot(data[:,2], label='Real')\n",
    "plt.plot(previsoes, 'red', label='Regressão')\n",
    "plt.legend(loc=1)\n",
    "plt.text(x=0,y=np.max(data[:,2])-10,s='Média Real: '+str(np.around(np.mean(data[:,2]), 2)), fontsize=20)\n",
    "plt.text(x=0,y=np.max(data[:,2])-20,s='Média Regressão: '+str(np.around(np.mean(previsoes), 2)), fontsize=20)\n",
    "plt.title('Regressão do consumo de todos os anos sem outliers')\n",
    "plt.savefig('graficos/regressão_geral.png')\n",
    "plt.show()"
   ]
  },
  {
   "cell_type": "markdown",
   "metadata": {
    "colab_type": "text",
    "id": "kHcF1Pq3jtNV"
   },
   "source": [
    "# Criando rede neural"
   ]
  },
  {
   "cell_type": "code",
   "execution_count": null,
   "metadata": {
    "colab": {},
    "colab_type": "code",
    "id": "j4M9vb9CjtNa"
   },
   "outputs": [],
   "source": [
    "x = []\n",
    "y = []\n",
    "batch = 3\n",
    "input_fixos = 2\n",
    "input_dim = input_fixos+batch\n",
    "\n",
    "consumo = data[:,input_fixos]\n",
    "\n",
    "consumo = np.append(consumo, np.repeat(consumo[-1], batch))\n",
    "\n",
    "for i in range(len(consumo)-batch):\n",
    "    x.append(consumo[i+1:i+batch])\n",
    "    y.append(consumo[i+batch])"
   ]
  },
  {
   "cell_type": "code",
   "execution_count": null,
   "metadata": {
    "colab": {},
    "colab_type": "code",
    "id": "ImC74AqajtNe"
   },
   "outputs": [],
   "source": [
    "x_train = np.zeros((data.shape[0],input_dim))\n",
    "x = np.asarray(x)\n",
    "\n",
    "for i in range(data.shape[0]):\n",
    "    x_train[i] = np.append(data[i], x[i])\n",
    "    \n",
    "y_train = np.asarray(y)\n",
    "y_train = y_train.reshape(y_train.shape[0], 1)\n",
    "\n",
    "scalerYTrain = StandardScaler()\n",
    "scalerXTrain = StandardScaler()\n",
    "\n",
    "y_train = scalerYTrain.fit_transform(y_train)\n",
    "x_train = scalerXTrain.fit_transform(x_train)"
   ]
  },
  {
   "cell_type": "code",
   "execution_count": null,
   "metadata": {
    "colab": {
     "base_uri": "https://localhost:8080/",
     "height": 530
    },
    "colab_type": "code",
    "id": "gjSfEDEEjtNy",
    "outputId": "4182c09e-161e-41cd-bc45-718b94c69387"
   },
   "outputs": [],
   "source": [
    "model = tf.keras.models.Sequential()\n",
    "\n",
    "model.add(tf.keras.layers.Dense(100, activation='tanh', input_dim=input_dim))\n",
    "model.add(tf.keras.layers.Dropout(0.2))\n",
    "\n",
    "model.add(tf.keras.layers.Dense(units=100, activation='tanh'))\n",
    "model.add(tf.keras.layers.Dropout(0.2))\n",
    "\n",
    "model.add(tf.keras.layers.Dense(units=100, activation='tanh'))\n",
    "model.add(tf.keras.layers.Dropout(0.2))\n",
    "\n",
    "model.add(tf.keras.layers.Dense(units=100, activation='tanh'))\n",
    "model.add(tf.keras.layers.Dropout(0.2))\n",
    "\n",
    "model.add(tf.keras.layers.Dense(1, activation='linear'))\n",
    "\n",
    "model.summary()"
   ]
  },
  {
   "cell_type": "code",
   "execution_count": null,
   "metadata": {
    "colab": {},
    "colab_type": "code",
    "id": "pl4nWWxojtN2"
   },
   "outputs": [],
   "source": [
    "model.compile(optimizer='adam',\n",
    "             loss='mse')"
   ]
  },
  {
   "cell_type": "code",
   "execution_count": null,
   "metadata": {
    "colab": {
     "base_uri": "https://localhost:8080/",
     "height": 1000
    },
    "colab_type": "code",
    "id": "Rj4dtefBjtN9",
    "outputId": "f1f07603-798d-4bd3-98b7-6271ca48e7eb",
    "scrolled": true
   },
   "outputs": [],
   "source": [
    "model.fit(x_train, y_train, epochs=150, batch_size=32, callbacks=[tf.keras.callbacks.ReduceLROnPlateau(monitor='loss')])"
   ]
  },
  {
   "cell_type": "markdown",
   "metadata": {
    "colab_type": "text",
    "id": "G3kRWxqV5J4-"
   },
   "source": [
    "## Salvando o modelo"
   ]
  },
  {
   "cell_type": "code",
   "execution_count": null,
   "metadata": {
    "colab": {},
    "colab_type": "code",
    "id": "6bNCNEfcsLE8"
   },
   "outputs": [],
   "source": [
    "model.save('models/my_model.h5')"
   ]
  },
  {
   "cell_type": "code",
   "execution_count": null,
   "metadata": {
    "colab": {},
    "colab_type": "code",
    "id": "TLyh7dVBfxNG"
   },
   "outputs": [],
   "source": [
    "# model = tf.keras.models.load_model('models/my_model.h5')"
   ]
  },
  {
   "cell_type": "markdown",
   "metadata": {
    "colab_type": "text",
    "id": "eYHkmBiib4gy"
   },
   "source": [
    "# Previsão 2019\n",
    "Agora, com a rede treinada, vamos prever como seria o comportamento do consumo em 2019.\n",
    "\n",
    "Para isso vamos primeiramente definir quantos pontos são referentes a 2019, para isso vamos considerar que as medições são feitas de 15 em 15 minutos. Logo temos um total de `365*4*24` pontos"
   ]
  },
  {
   "cell_type": "code",
   "execution_count": null,
   "metadata": {
    "colab": {},
    "colab_type": "code",
    "id": "FiByydCLVw5u"
   },
   "outputs": [],
   "source": [
    "pontosAno = 4*24*365"
   ]
  },
  {
   "cell_type": "markdown",
   "metadata": {
    "colab_type": "text",
    "id": "bw5TuifyV3HH"
   },
   "source": [
    "## Prevendo os valores"
   ]
  },
  {
   "cell_type": "code",
   "execution_count": null,
   "metadata": {
    "colab": {},
    "colab_type": "code",
    "id": "sXaJnyexl2R4"
   },
   "outputs": [],
   "source": [
    "def verMes(mes):\n",
    "    if mes <= 2 or mes >= 11:\n",
    "        return verao\n",
    "    elif mes >= 5 and mes <= 7:\n",
    "        return inverno\n",
    "    else:\n",
    "        return resto"
   ]
  },
  {
   "cell_type": "code",
   "execution_count": null,
   "metadata": {},
   "outputs": [],
   "source": [
    "def aleatoriedade(inicio, fim):\n",
    "    n = (inicio + np.random.random()*(fim-inicio))\n",
    "    if n == 0:\n",
    "        aleatoriedade(inicio, fim)\n",
    "    else:\n",
    "        return n"
   ]
  },
  {
   "cell_type": "code",
   "execution_count": null,
   "metadata": {},
   "outputs": [],
   "source": [
    "inicioAleatorio = -0.05\n",
    "fimAleatorio = 0.05"
   ]
  },
  {
   "cell_type": "markdown",
   "metadata": {
    "colab_type": "text",
    "id": "NJgUijV3cKw4"
   },
   "source": [
    "# CRIANDO PREDIÇÃO PARA CONSUMO E TDH"
   ]
  },
  {
   "cell_type": "markdown",
   "metadata": {
    "colab_type": "text",
    "id": "hIMsKEFBV_9H"
   },
   "source": [
    "## Carregando dados\n",
    "Os dados aqui trabalhados são os de consumo e distorções harmonicas de cada fase por trafo.\n",
    "\n",
    "O objetivo daqui para frente é utilizar o consumo como base para obter as distorçoes harmonicas de cada fase. \n",
    "Assim posteriormente com a previsão do consumo em gerada pela rede neural treinada anteriormente, podemos prever o valor de distorção harmonica em algum ponto futuro, logo podemos saber quando ela irá ultrapassar o maximo determinado pela normal."
   ]
  },
  {
   "cell_type": "code",
   "execution_count": null,
   "metadata": {
    "colab": {},
    "colab_type": "code",
    "id": "IS4-ZiWOcKHX"
   },
   "outputs": [],
   "source": [
    "base_url = '../Trafos/THD/'\n",
    "\n",
    "harmonicoTrafo1 = np.genfromtxt(base_url + 'Trafo1.csv', delimiter=';')\n",
    "harmonicoTrafo2 = np.genfromtxt(base_url + 'Trafo2.csv', delimiter=';')\n",
    "harmonicoTrafo3 = np.genfromtxt(base_url + 'Trafo3.csv', delimiter=';')\n",
    "harmonicoTrafo4 = np.genfromtxt(base_url + 'Trafo4.csv', delimiter=';')"
   ]
  },
  {
   "cell_type": "code",
   "execution_count": null,
   "metadata": {
    "colab": {},
    "colab_type": "code",
    "id": "Lccb7b2adQXO"
   },
   "outputs": [],
   "source": [
    "base_url = '../Trafos/consumo/'\n",
    "\n",
    "consumoTrafo1 = np.genfromtxt(base_url + 'Trafo1.csv', delimiter=';')\n",
    "consumoTrafo2 = np.genfromtxt(base_url + 'Trafo2.csv', delimiter=';')\n",
    "consumoTrafo3 = np.genfromtxt(base_url + 'Trafo3.csv', delimiter=';')\n",
    "consumoTrafo4 = np.genfromtxt(base_url + 'Trafo4.csv', delimiter=';')"
   ]
  },
  {
   "cell_type": "markdown",
   "metadata": {
    "colab_type": "text",
    "id": "TRJ2mU3dWj-x"
   },
   "source": [
    "### Carregando as distorções harmonicas médias"
   ]
  },
  {
   "cell_type": "code",
   "execution_count": null,
   "metadata": {
    "colab": {},
    "colab_type": "code",
    "id": "wVqKTmf4nbMB"
   },
   "outputs": [],
   "source": [
    "harmonicoTrafo1FaseA = harmonicoTrafo1[:,3]\n",
    "harmonicoTrafo2FaseA = harmonicoTrafo2[:,3]\n",
    "harmonicoTrafo3FaseA = harmonicoTrafo3[:,3]\n",
    "harmonicoTrafo4FaseA = harmonicoTrafo4[:,3]"
   ]
  },
  {
   "cell_type": "code",
   "execution_count": null,
   "metadata": {
    "colab": {},
    "colab_type": "code",
    "id": "VXZDN2IpoYA4"
   },
   "outputs": [],
   "source": [
    "harmonicoTrafo1FaseB = harmonicoTrafo1[:,6]\n",
    "harmonicoTrafo2FaseB = harmonicoTrafo2[:,6]\n",
    "harmonicoTrafo3FaseB = harmonicoTrafo3[:,6]\n",
    "harmonicoTrafo4FaseB = harmonicoTrafo4[:,6]"
   ]
  },
  {
   "cell_type": "code",
   "execution_count": null,
   "metadata": {
    "colab": {},
    "colab_type": "code",
    "id": "rmKa-Uu0od6w"
   },
   "outputs": [],
   "source": [
    "harmonicoTrafo1FaseC = harmonicoTrafo1[:,9]\n",
    "harmonicoTrafo2FaseC = harmonicoTrafo2[:,9]\n",
    "harmonicoTrafo3FaseC = harmonicoTrafo3[:,9]\n",
    "harmonicoTrafo4FaseC = harmonicoTrafo4[:,9]"
   ]
  },
  {
   "cell_type": "code",
   "execution_count": null,
   "metadata": {},
   "outputs": [],
   "source": [
    "for i in range(0, len(harmonicoTrafo1FaseA)):\n",
    "    if harmonicoTrafo1FaseA[i] > 3:\n",
    "        harmonicoTrafo1FaseA[i] = np.mean(harmonicoTrafo1FaseA)\n",
    "    if harmonicoTrafo2FaseA[i] > 3:\n",
    "        harmonicoTrafo2FaseA[i] = np.mean(harmonicoTrafo2FaseA)\n",
    "    if harmonicoTrafo3FaseA[i] > 3:\n",
    "        harmonicoTrafo3FaseA[i] = np.mean(harmonicoTrafo3FaseA)\n",
    "    if harmonicoTrafo4FaseA[i] > 3:\n",
    "        harmonicoTrafo4FaseA[i] = np.mean(harmonicoTrafo4FaseA)\n",
    "\n",
    "    if harmonicoTrafo1FaseB[i] > 3:\n",
    "        harmonicoTrafo1FaseB[i] = np.mean(harmonicoTrafo1FaseB)\n",
    "    if harmonicoTrafo2FaseB[i] > 3:\n",
    "        harmonicoTrafo2FaseB[i] = np.mean(harmonicoTrafo2FaseB)\n",
    "    if harmonicoTrafo3FaseB[i] > 3:\n",
    "        harmonicoTrafo3FaseB[i] = np.mean(harmonicoTrafo3FaseB)\n",
    "    if harmonicoTrafo4FaseB[i] > 3:\n",
    "        harmonicoTrafo4FaseB[i] = np.mean(harmonicoTrafo4FaseB)\n",
    "\n",
    "    if harmonicoTrafo1FaseC[i] > 3:\n",
    "        harmonicoTrafo1FaseC[i] = np.mean(harmonicoTrafo1FaseC)\n",
    "    if harmonicoTrafo2FaseC[i] > 3:\n",
    "        harmonicoTrafo2FaseC[i] = np.mean(harmonicoTrafo2FaseC)\n",
    "    if harmonicoTrafo3FaseC[i] > 3:\n",
    "        harmonicoTrafo3FaseC[i] = np.mean(harmonicoTrafo3FaseC)\n",
    "    if harmonicoTrafo4FaseC[i] > 3:\n",
    "        harmonicoTrafo4FaseC[i] = np.mean(harmonicoTrafo4FaseC)"
   ]
  },
  {
   "cell_type": "markdown",
   "metadata": {
    "colab_type": "text",
    "id": "hHYROnzBWo7N"
   },
   "source": [
    "### Carregando os consumos de cada trafo"
   ]
  },
  {
   "cell_type": "markdown",
   "metadata": {
    "colab_type": "text",
    "id": "sp-AqxmTWski"
   },
   "source": [
    "### Somando os consumos dos trafos e as distorçoes harmonicas de cada fase"
   ]
  },
  {
   "cell_type": "code",
   "execution_count": null,
   "metadata": {
    "colab": {},
    "colab_type": "code",
    "id": "5ZgRDNaol2Sf"
   },
   "outputs": [],
   "source": [
    "consumoTotal = consumoTrafo1 + consumoTrafo2 + consumoTrafo3 + consumoTrafo4 + 40"
   ]
  },
  {
   "cell_type": "code",
   "execution_count": null,
   "metadata": {
    "colab": {},
    "colab_type": "code",
    "id": "7ste1NKkl2Sh"
   },
   "outputs": [],
   "source": [
    "dim = len(consumoTrafo1)\n",
    "\n",
    "harmonicosFaseA = np.array([])\n",
    "harmonicosFaseB = np.array([])\n",
    "harmonicosFaseC = np.array([])\n",
    "\n",
    "for i in range(dim):\n",
    "    hA = max([harmonicoTrafo1FaseA[i], harmonicoTrafo2FaseA[i], harmonicoTrafo3FaseA[i], harmonicoTrafo4FaseA[i]])\n",
    "    hB = max([harmonicoTrafo1FaseB[i], harmonicoTrafo2FaseB[i], harmonicoTrafo3FaseB[i], harmonicoTrafo4FaseB[i]])\n",
    "    hC = max([harmonicoTrafo1FaseC[i], harmonicoTrafo2FaseC[i], harmonicoTrafo3FaseC[i], harmonicoTrafo4FaseC[i]])\n",
    "    harmonicosFaseA = np.append(harmonicosFaseA, hA)\n",
    "    harmonicosFaseB = np.append(harmonicosFaseB, hB)    \n",
    "    harmonicosFaseC = np.append(harmonicosFaseC, hC)    "
   ]
  },
  {
   "cell_type": "markdown",
   "metadata": {
    "colab_type": "text",
    "id": "kXfRCUCKXUl3"
   },
   "source": [
    "## Criando função que cria uma rede neural"
   ]
  },
  {
   "cell_type": "code",
   "execution_count": null,
   "metadata": {
    "colab": {},
    "colab_type": "code",
    "id": "2Mn2wHizqByA"
   },
   "outputs": [],
   "source": [
    "def regressionModel():\n",
    "    model_regression = tf.keras.models.Sequential()\n",
    "\n",
    "    model_regression.add(tf.keras.layers.Dense(64, activation='relu', input_dim = 1))      \n",
    "    model_regression.add(tf.keras.layers.Dense(64,activation='relu'))                      \n",
    "    model_regression.add(tf.keras.layers.Dense(1, activation='linear'))                    \n",
    "    return model_regression"
   ]
  },
  {
   "cell_type": "markdown",
   "metadata": {
    "colab_type": "text",
    "id": "-9Tf34aBXYhd"
   },
   "source": [
    "## Ajustando as dimensões das massas de dados"
   ]
  },
  {
   "cell_type": "code",
   "execution_count": null,
   "metadata": {
    "colab": {},
    "colab_type": "code",
    "id": "9IOB_pRvvNll"
   },
   "outputs": [],
   "source": [
    "consumoTotal = consumoTotal.reshape(93,1)\n",
    "harmonicosFaseA = harmonicosFaseA.reshape(93,1)\n",
    "harmonicosFaseB = harmonicosFaseB.reshape(93,1)\n",
    "harmonicosFaseC = harmonicosFaseC.reshape(93,1)"
   ]
  },
  {
   "cell_type": "markdown",
   "metadata": {
    "colab_type": "text",
    "id": "L8pxX8RaXd4s"
   },
   "source": [
    "## Escalonando os dados e treinando as redes"
   ]
  },
  {
   "cell_type": "code",
   "execution_count": null,
   "metadata": {
    "colab": {
     "base_uri": "https://localhost:8080/",
     "height": 1000
    },
    "colab_type": "code",
    "id": "OmP0D04du3Ak",
    "outputId": "6eb2a24d-326d-43e5-f6cf-089373d35441"
   },
   "outputs": [],
   "source": [
    "scalerConsumo = StandardScaler()\n",
    "scalerFaseA = StandardScaler()\n",
    "scalerFaseB = StandardScaler()\n",
    "scalerFaseC = StandardScaler()\n",
    "\n",
    "x = scalerConsumo.fit_transform(consumoTotal)\n",
    "yA = scalerFaseA.fit_transform(harmonicosFaseA)\n",
    "yB = scalerFaseB.fit_transform(harmonicosFaseB)\n",
    "yC = scalerFaseC.fit_transform(harmonicosFaseC)\n",
    "\n",
    "model_regressionA = regressionModel()\n",
    "model_regressionB = regressionModel()\n",
    "model_regressionC = regressionModel()\n",
    "\n",
    "model_regressionA.compile(optimizer='RMSprop', loss = 'mse', metrics=['mae', 'mse'])\n",
    "model_regressionB.compile(optimizer='RMSprop', loss = 'mse', metrics=['mae', 'mse'])\n",
    "model_regressionC.compile(optimizer='RMSprop', loss = 'mse', metrics=['mae', 'mse'])\n",
    "\n",
    "\n",
    "model_regressionA.fit(x, yA, batch_size=32, epochs = 500)\n",
    "model_regressionB.fit(x, yB, batch_size=32, epochs = 500)\n",
    "model_regressionC.fit(x, yC, batch_size=32, epochs = 500)"
   ]
  },
  {
   "cell_type": "markdown",
   "metadata": {
    "colab_type": "text",
    "id": "6wubbTRCXi2l"
   },
   "source": [
    "## Salvando os modelos"
   ]
  },
  {
   "cell_type": "code",
   "execution_count": null,
   "metadata": {
    "colab": {},
    "colab_type": "code",
    "id": "jGwLhLwWRPlF"
   },
   "outputs": [],
   "source": [
    "model_regressionA.save('models/model_regressionA.h5')\n",
    "model_regressionB.save('models/model_regressionB.h5')\n",
    "model_regressionC.save('models/model_regressionC.h5')"
   ]
  },
  {
   "cell_type": "code",
   "execution_count": null,
   "metadata": {},
   "outputs": [],
   "source": [
    "# model_regressionA = tf.keras.models.load_model('models/model_regressionA.h5')\n",
    "# model_regressionB = tf.keras.models.load_model('models/model_regressionB.h5')\n",
    "# model_regressionC = tf.keras.models.load_model('models/model_regressionC.h5')"
   ]
  },
  {
   "cell_type": "code",
   "execution_count": null,
   "metadata": {
    "colab": {
     "base_uri": "https://localhost:8080/",
     "height": 265
    },
    "colab_type": "code",
    "id": "HN-1zydUl2Su",
    "outputId": "9879ce25-9f4b-490c-a5ac-3a88f8f854aa",
    "scrolled": false
   },
   "outputs": [],
   "source": [
    "plt.figure(figsize=(20,10))\n",
    "plt.plot(consumoTotal, color='purple', label='Consumo')\n",
    "plt.plot(50*harmonicosFaseA, color='red', label='TDH Fase A')\n",
    "plt.plot(50*harmonicosFaseB, color='blue', label='TDH Fase B')\n",
    "plt.plot(50*harmonicosFaseC, color='green', label='TDH Fase C')\n",
    "plt.title('Harmônicos dos trafos com o consumo')\n",
    "plt.text(x=20,y=50,s='Os valores dos harmônicos estão multiplicados por 50', fontsize=10)\n",
    "plt.legend(loc=3)\n",
    "plt.savefig('graficos/harmônicos dos trafos com o consumo.png')"
   ]
  },
  {
   "cell_type": "markdown",
   "metadata": {
    "colab_type": "text",
    "id": "RWdEY8KzXmXh"
   },
   "source": [
    "## EXIBINDO AS CURVAS DE HARMONICOS REAIS E AS PREVISTAS UTILIZANDO A MESMA BASE DE DADOS QUE FOI UTILIZADA PARA TREINAR"
   ]
  },
  {
   "cell_type": "code",
   "execution_count": null,
   "metadata": {
    "colab": {
     "base_uri": "https://localhost:8080/",
     "height": 266
    },
    "colab_type": "code",
    "id": "7y9aseY8p9C1",
    "outputId": "ae439353-397c-4f79-9b95-ada8e4653422"
   },
   "outputs": [],
   "source": [
    "plt.figure(figsize=(20,10))\n",
    "plt.plot(harmonicosFaseA, 'red', label='Valor real')\n",
    "plt.plot(scalerFaseA.inverse_transform(model_regressionA.predict(x)), 'blue', label='Valor previsto')\n",
    "plt.legend(loc=1)\n",
    "plt.title('Harmônicos da fase A')\n",
    "plt.savefig('graficos/harmônicos_faseA.png')"
   ]
  },
  {
   "cell_type": "code",
   "execution_count": null,
   "metadata": {
    "colab": {
     "base_uri": "https://localhost:8080/",
     "height": 265
    },
    "colab_type": "code",
    "id": "oTmgwkd1NZ16",
    "outputId": "4504243e-c170-4ee8-9b32-a4689b4834c5"
   },
   "outputs": [],
   "source": [
    "plt.figure(figsize=(20,10))\n",
    "plt.plot(harmonicosFaseB, 'red', label='Valor real')\n",
    "plt.plot(scalerFaseB.inverse_transform(model_regressionB.predict(x)), 'blue', label='Valor previsto')\n",
    "plt.legend(loc=1)\n",
    "plt.title('Harmônicos da fase B')\n",
    "plt.savefig('graficos/harmônicos_faseB.png')"
   ]
  },
  {
   "cell_type": "code",
   "execution_count": null,
   "metadata": {
    "colab": {
     "base_uri": "https://localhost:8080/",
     "height": 265
    },
    "colab_type": "code",
    "id": "6dchgvC5NblV",
    "outputId": "4d43ff4a-2596-4fcb-cc03-19ee918268fc",
    "scrolled": false
   },
   "outputs": [],
   "source": [
    "plt.figure(figsize=(20,10))\n",
    "plt.plot(harmonicosFaseC, 'red', label='Valor real')\n",
    "plt.plot(scalerFaseC.inverse_transform(model_regressionC.predict(x)), 'blue', label='Valor previsto')\n",
    "plt.legend(loc=1)\n",
    "plt.title('Harmônicos da fase C')\n",
    "plt.savefig('graficos/harmônicos_faseC.png')"
   ]
  },
  {
   "cell_type": "markdown",
   "metadata": {
    "colab_type": "text",
    "id": "dTzIy2_oSajg"
   },
   "source": [
    "# Prevendo distroções futuras"
   ]
  },
  {
   "cell_type": "code",
   "execution_count": null,
   "metadata": {
    "colab": {
     "base_uri": "https://localhost:8080/",
     "height": 68
    },
    "colab_type": "code",
    "id": "o112cegQd135",
    "outputId": "63382f92-aa00-40a0-b664-d1dd87043495"
   },
   "outputs": [],
   "source": [
    "values = x_train[-1].reshape(1, input_dim)\n",
    "values = scalerXTrain.inverse_transform(values)\n",
    "consumoPrevisto = y_train[-1]\n",
    "\n",
    "harmonicosA = []\n",
    "harmonicosB = []\n",
    "harmonicosC = []\n",
    "count = 0\n",
    "pontosParaA = 0\n",
    "verificadorA = True\n",
    "pontosParaB = 0\n",
    "verificadorB = True\n",
    "pontosParaC = 0\n",
    "verificadorC = True\n",
    "mes = 12\n",
    "ano = 2\n",
    "\n",
    "while (verificadorA or verificadorB or verificadorC) and count < 10*pontosAno:\n",
    "    # prediction = model.predict(scalerXTrain.transform(values))\n",
    "    prediction = model.predict(scalerXTrain.transform(values)) + aleatoriedade(inicioAleatorio, fimAleatorio)\n",
    "    consumoPrevisto = np.append(consumoPrevisto, prediction)\n",
    "    # values[0][input_fixos:-1] = values[0][input_fixos+1:]*np.random.permutation(np.concatenate((np.zeros(1), np.ones(3))))\n",
    "    # values[0][input_fixos:-1] = values[0][input_fixos+1:]*np.random.permutation(np.concatenate((np.zeros(int(batch*taxa)), np.ones(batch-int(batch*taxa)-1))))\n",
    "    values[0][input_fixos:-1] = values[0][input_fixos+1:]\n",
    "    # values[0][-1] = scalerYTrain.inverse_transform(prediction)[0][0] + aleatoriedade(inicioAleatorio, fimAleatorio, mes)\n",
    "    values[0][-1] = scalerYTrain.inverse_transform(prediction)[0][0]\n",
    "    \n",
    "    if count%(4*24*30) == 0:\n",
    "        mes += 1\n",
    "        values[0][0] = verMes(mes)\n",
    "    if mes > 12:\n",
    "        ano += 1\n",
    "        # values[0][1] = crescimentoAnual(ano)\n",
    "        values[0][1] = ano\n",
    "        mes = 1\n",
    "        values[0][0] = verMes(mes)\n",
    "    \n",
    "\n",
    "    harmonicoValueA = scalerFaseA.inverse_transform(model_regressionA.predict(scalerConsumo.transform(values[0][-1].reshape(1,1))))[0][0]\n",
    "    harmonicoValueB = scalerFaseB.inverse_transform(model_regressionB.predict(scalerConsumo.transform(values[0][-1].reshape(1,1))))[0][0]\n",
    "    harmonicoValueC = scalerFaseC.inverse_transform(model_regressionC.predict(scalerConsumo.transform(values[0][-1].reshape(1,1))))[0][0]\n",
    "    \n",
    "    harmonicosA.append(harmonicoValueA)\n",
    "    harmonicosB.append(harmonicoValueB)\n",
    "    harmonicosC.append(harmonicoValueC)\n",
    "        \n",
    "    count += 1\n",
    "    if (harmonicoValueA > 10 and verificadorA):\n",
    "        pontosParaA = count\n",
    "        verificadorA = False\n",
    "        \n",
    "    if (harmonicoValueB > 10 and verificadorB):\n",
    "        pontosParaB = count\n",
    "        verificadorB = False\n",
    "        \n",
    "    if (harmonicoValueC > 10 and verificadorC):\n",
    "        pontosParaC = count\n",
    "        verificadorC = False\n",
    "\n",
    "print(f'Fase A - Dias após 31/dez/2018: {pontosParaA/(24*4)}')\n",
    "print(f'Fase B - Dias após 31/dez/2018: {pontosParaB/(24*4)}')\n",
    "print(f'Fase C - Dias após 31/dez/2018: {pontosParaC/(24*4)}')"
   ]
  },
  {
   "cell_type": "code",
   "execution_count": null,
   "metadata": {
    "colab": {
     "base_uri": "https://localhost:8080/",
     "height": 680
    },
    "colab_type": "code",
    "id": "_hE5rZRCnfFM",
    "outputId": "9c61deb2-fccd-4d24-9ed0-f71351bab7dc",
    "scrolled": false
   },
   "outputs": [],
   "source": [
    "# harmonicos todos os anos\n",
    "plt.figure(figsize=(20,10))\n",
    "plt.plot(harmonicosA[50:], 'red', label='TDH Fase A')\n",
    "plt.plot(harmonicosB[50:], 'blue', label='TDH Fase B')\n",
    "plt.plot(harmonicosC[50:], 'green', label='TDH Fase C')\n",
    "plt.text(x=30000,y=np.max(harmonicosB[50:]),s='Maximo Fase A: '+str(np.around(np.max(harmonicosA[50:]), 2)), fontsize=20)\n",
    "plt.text(x=30000,y=np.max(harmonicosB[50:])-0.1,s='Maximo Fase B: '+str(np.around(np.max(harmonicosB[50:]), 2)), fontsize=20)\n",
    "plt.text(x=30000,y=np.max(harmonicosB[50:])-0.2,s='Maximo Fase C: '+str(np.around(np.max(harmonicosC[50:]), 2)), fontsize=20)\n",
    "plt.legend(loc=4)\n",
    "plt.title('Harmônicos previstos por fase de 2019 a 2029')\n",
    "plt.savefig('graficos/harmônicos previstos 2019 a 2029.png')"
   ]
  },
  {
   "cell_type": "code",
   "execution_count": null,
   "metadata": {},
   "outputs": [],
   "source": [
    "# harmonicos todos os anos com regressão\n",
    "previsoesA = regressionFunction(np.asarray(harmonicosA[50:]), 4)\n",
    "previsoesB = regressionFunction(np.asarray(harmonicosB[50:]), 4)\n",
    "previsoesC = regressionFunction(np.asarray(harmonicosC[50:]), 4)\n",
    "\n",
    "plt.figure(figsize=(20,10))\n",
    "plt.plot(previsoesA, 'red', label='Regressão TDH Fase A')\n",
    "plt.plot(previsoesB, 'blue', label='Regressão TDH Fase B')\n",
    "plt.plot(previsoesC, 'green', label='Regressão TDH Fase C')\n",
    "\n",
    "plt.text(x=40000,y=np.max(previsoesB),s='Maximo Fase A: '+str(np.around(np.max(previsoesA), 2)), fontsize=20)\n",
    "plt.text(x=40000,y=np.max(previsoesB)-0.07,s='Maximo Fase B: '+str(np.around(np.max(previsoesB), 2)), fontsize=20)\n",
    "plt.text(x=40000,y=np.max(previsoesB)-0.14,s='Maximo Fase C: '+str(np.around(np.max(previsoesC), 2)), fontsize=20)\n",
    "plt.legend(loc=4)\n",
    "plt.title('Regressão dos harmônicos previstos por fase de 2019 a 2029')\n",
    "plt.savefig('graficos/Regressão dos harmônicos previstos 2019 a 2029.png')"
   ]
  },
  {
   "cell_type": "code",
   "execution_count": null,
   "metadata": {},
   "outputs": [],
   "source": [
    "# harmonicos 2019\n",
    "plt.figure(figsize=(20,10))\n",
    "plt.plot(harmonicosA[50:pontosAno], 'red', label='TDH 2019 Fase A')\n",
    "plt.plot(harmonicosB[50:pontosAno], 'blue', label='TDH 2019 Fase B')\n",
    "plt.plot(harmonicosC[50:pontosAno], 'green', label='TDH 2019 Fase C')\n",
    "\n",
    "plt.text(x=4000,y=np.max(harmonicosB[50:1*pontosAno]),s='Maximo Fase A: '+str(np.around(np.max(harmonicosA[50:1*pontosAno]), 2)), fontsize=20)\n",
    "plt.text(x=14000,y=np.max(harmonicosB[50:1*pontosAno]),s='Maximo Fase B: '+str(np.around(np.max(harmonicosB[50:1*pontosAno]), 2)), fontsize=20)\n",
    "plt.text(x=24000,y=np.max(harmonicosB[50:1*pontosAno]),s='Maximo Fase C: '+str(np.around(np.max(harmonicosC[50:1*pontosAno]), 2)), fontsize=20)\n",
    "\n",
    "\n",
    "plt.legend(loc=3)\n",
    "plt.title('Harmônicos previstos por fase em 2019')\n",
    "plt.savefig('graficos/harmônicos_previstos_2019.png')"
   ]
  },
  {
   "cell_type": "code",
   "execution_count": null,
   "metadata": {},
   "outputs": [],
   "source": [
    "# harmonicos com regressão 2019\n",
    "previsoesA = regressionFunction(np.asarray(harmonicosA[50:1*pontosAno]), 4)\n",
    "previsoesB = regressionFunction(np.asarray(harmonicosB[50:1*pontosAno]), 4)\n",
    "previsoesC = regressionFunction(np.asarray(harmonicosC[50:1*pontosAno]), 4)\n",
    "\n",
    "plt.figure(figsize=(20,10))\n",
    "plt.plot(previsoesA, 'red', label='Regressão TDH Fase A')\n",
    "plt.plot(previsoesB, 'blue', label='Regressão TDH Fase B')\n",
    "plt.plot(previsoesC, 'green', label='Regressão TDH Fase C')\n",
    "\n",
    "plt.text(x=4000,y=np.max(previsoesB),s='Maximo Fase A: '+str(np.around(np.max(previsoesA), 2)), fontsize=20)\n",
    "plt.text(x=14000,y=np.max(previsoesB),s='Maximo Fase B: '+str(np.around(np.max(previsoesB), 2)), fontsize=20)\n",
    "plt.text(x=24000,y=np.max(previsoesB),s='Maximo Fase C: '+str(np.around(np.max(previsoesC), 2)), fontsize=20)\n",
    "plt.legend(loc=3)\n",
    "plt.title('Regressão dos harmônicos previstos por fase 2019')\n",
    "plt.savefig('graficos/Regressão dos harmônicos_previstos 2019.png')"
   ]
  },
  {
   "cell_type": "code",
   "execution_count": null,
   "metadata": {},
   "outputs": [],
   "source": [
    "# harmonicos 2 anos \n",
    "plt.figure(figsize=(20,10))\n",
    "plt.plot(harmonicosA[50:2*pontosAno], 'red', label='TDH 2019 Fase A')\n",
    "plt.plot(harmonicosB[50:2*pontosAno], 'blue', label='TDH 2019 Fase B')\n",
    "plt.plot(harmonicosC[50:2*pontosAno], 'green', label='TDH 2019 Fase C')\n",
    "\n",
    "plt.text(x=5000,y=np.max(harmonicosB[50:2*pontosAno]),s='Maximo Fase A: '+str(np.around(np.max(harmonicosA[50:2*pontosAno]), 2)), fontsize=20)\n",
    "\n",
    "plt.text(x=25000,y=np.max(harmonicosB[50:2*pontosAno]),s='Maximo Fase B: '+str(np.around(np.max(harmonicosB[50:2*pontosAno]), 2)), fontsize=20)\n",
    "\n",
    "plt.text(x=55000,y=np.max(harmonicosB[50:2*pontosAno]),s='Maximo Fase C: '+str(np.around(np.max(harmonicosC[50:2*pontosAno]), 2)), fontsize=20)\n",
    "\n",
    "plt.legend(loc=4)\n",
    "plt.title('Harmônicos previstos por fase em 2019 a 2021')\n",
    "plt.savefig('graficos/harmônicos_previstos_2019 a 2021.png')"
   ]
  },
  {
   "cell_type": "code",
   "execution_count": null,
   "metadata": {},
   "outputs": [],
   "source": [
    "# harmonicos com regressão dois anos\n",
    "previsoesA = regressionFunction(np.asarray(harmonicosA[50:2*pontosAno]), 6)\n",
    "previsoesB = regressionFunction(np.asarray(harmonicosB[50:2*pontosAno]), 6)\n",
    "previsoesC = regressionFunction(np.asarray(harmonicosC[50:2*pontosAno]), 6)\n",
    "\n",
    "plt.figure(figsize=(20,10))\n",
    "plt.plot(previsoesA, 'red', label='Regressão TDH Fase A')\n",
    "plt.plot(previsoesB, 'blue', label='Regressão TDH Fase B')\n",
    "plt.plot(previsoesC, 'green', label='Regressão TDH Fase C')\n",
    "\n",
    "plt.text(x=6000,y=np.max(previsoesB)-0.07,s='Maximo Fase A: '+str(np.around(np.max(previsoesA), 2)), fontsize=20)\n",
    "plt.text(x=28000,y=np.max(previsoesB)-0.07,s='Maximo Fase B: '+str(np.around(np.max(previsoesB), 2)), fontsize=20)\n",
    "plt.text(x=50000,y=np.max(previsoesB)-0.07,s='Maximo Fase C: '+str(np.around(np.max(previsoesC), 2)), fontsize=20)\n",
    "plt.legend(loc=4)\n",
    "plt.title('Regressão dos harmônicos previstos por fase 2019 a 2021')\n",
    "plt.savefig('graficos/Regressão dos harmônicos_previstos 2019 a 2021.png')"
   ]
  },
  {
   "cell_type": "code",
   "execution_count": null,
   "metadata": {},
   "outputs": [],
   "source": [
    "# harmonicos 5 anos \n",
    "plt.figure(figsize=(20,10))\n",
    "plt.plot(harmonicosA[50:5*pontosAno], 'red', label='TDH 2019 Fase A')\n",
    "plt.plot(harmonicosB[50:5*pontosAno], 'blue', label='TDH 2019 Fase B')\n",
    "plt.plot(harmonicosC[50:5*pontosAno], 'green', label='TDH 2019 Fase C')\n",
    "\n",
    "plt.text(x=25000,y=np.max(harmonicosB[50:5*pontosAno]),s='Maximo Fase A: '+str(np.around(np.max(harmonicosA[50:5*pontosAno]), 2)), fontsize=20)\n",
    "\n",
    "plt.text(x=75000,y=np.max(harmonicosB[50:5*pontosAno]),s='Maximo Fase B: '+str(np.around(np.max(harmonicosB[50:5*pontosAno]), 2)), fontsize=20)\n",
    "\n",
    "plt.text(x=125000,y=np.max(harmonicosB[50:5*pontosAno]),s='Maximo Fase C: '+str(np.around(np.max(harmonicosC[50:5*pontosAno]), 2)), fontsize=20)\n",
    "\n",
    "plt.legend(loc=4)\n",
    "plt.title('Harmônicos previstos por fase em 2019 a 2024')\n",
    "plt.savefig('graficos/harmônicos_previstos_2019 a 2024.png')"
   ]
  },
  {
   "cell_type": "code",
   "execution_count": null,
   "metadata": {},
   "outputs": [],
   "source": [
    "# harmonicos com regressão cinco anos\n",
    "previsoesA = regressionFunction(np.asarray(harmonicosA[50:5*pontosAno]), 6)\n",
    "previsoesB = regressionFunction(np.asarray(harmonicosB[50:5*pontosAno]), 6)\n",
    "previsoesC = regressionFunction(np.asarray(harmonicosC[50:5*pontosAno]), 6)\n",
    "\n",
    "plt.figure(figsize=(20,10))\n",
    "plt.plot(previsoesA, 'red', label='Regressão TDH Fase A')\n",
    "plt.plot(previsoesB, 'blue', label='Regressão TDH Fase B')\n",
    "plt.plot(previsoesC, 'green', label='Regressão TDH Fase C')\n",
    "\n",
    "plt.text(x=25000,y=np.max(previsoesB)-0.07,s='Maximo Fase A: '+str(np.around(np.max(previsoesA), 2)), fontsize=20)\n",
    "plt.text(x=75000,y=np.max(previsoesB)-0.07,s='Maximo Fase B: '+str(np.around(np.max(previsoesB), 2)), fontsize=20)\n",
    "plt.text(x=125000,y=np.max(previsoesB)-0.07,s='Maximo Fase C: '+str(np.around(np.max(previsoesC), 2)), fontsize=20)\n",
    "plt.legend(loc=4)\n",
    "plt.title('Regressão dos harmônicos previstos por fase 2019 a 2024')\n",
    "plt.savefig('graficos/Regressão dos harmônicos_previstos 2019 a 2024.png')"
   ]
  },
  {
   "cell_type": "code",
   "execution_count": null,
   "metadata": {
    "scrolled": false
   },
   "outputs": [],
   "source": [
    "consumoTotal = scalerYTrain.inverse_transform(consumoPrevisto[0:].reshape(consumoPrevisto[0:].shape[0],1))"
   ]
  },
  {
   "cell_type": "code",
   "execution_count": null,
   "metadata": {
    "scrolled": false
   },
   "outputs": [],
   "source": [
    "# um ano\n",
    "plt.figure(figsize=(20,10))\n",
    "plt.plot(consumoTotal[50:1*pontosAno], color='blue')\n",
    "plt.text(x=0,y=np.min(consumoTotal[50:1*pontosAno])+3,s='Maximo: '+str(np.around(np.max(consumoTotal[50:1*pontosAno]), 2)), fontsize=20)\n",
    "plt.title('Consumo previsto de 2019')\n",
    "plt.savefig('graficos/previsão_2019.png')"
   ]
  },
  {
   "cell_type": "code",
   "execution_count": null,
   "metadata": {},
   "outputs": [],
   "source": [
    "# um ano regressão\n",
    "previsoes = regressionFunction(consumoTotal[50:1*pontosAno], 6)\n",
    "plt.figure(figsize=(20,10))\n",
    "plt.plot(consumoTotal[50:1*pontosAno], 'green', label='Real')\n",
    "plt.plot(previsoes, 'red', label='Regressão')\n",
    "plt.legend()\n",
    "plt.text(x=0,y=np.min(consumoTotal[50:1*pontosAno])+6,s='Maximo Real: '+str(np.around(np.max(consumoTotal[50:1*pontosAno]), 2)), fontsize=20)\n",
    "plt.text(x=0,y=np.min(consumoTotal[50:1*pontosAno])+3,s='Máximo Regressão: '+str(np.around(np.max(previsoes), 2)), fontsize=20)\n",
    "plt.title('Regressão do consumo previsto de 2019')\n",
    "plt.savefig('graficos/regressão_2019.png')\n",
    "plt.show()"
   ]
  },
  {
   "cell_type": "code",
   "execution_count": null,
   "metadata": {},
   "outputs": [],
   "source": [
    "# dois anos\n",
    "plt.figure(figsize=(20,10))\n",
    "plt.plot(consumoTotal[50:2*pontosAno], color='blue')\n",
    "plt.text(x=0,y=np.max(consumoTotal[50:2*pontosAno]),s='Maximo: '+str(np.around(np.max(consumoTotal[50:2*pontosAno]), 2)), fontsize=20)\n",
    "plt.title('Consumo previsto de 2019 a 2021')\n",
    "plt.savefig('graficos/previsão_2019_2021.png')"
   ]
  },
  {
   "cell_type": "code",
   "execution_count": null,
   "metadata": {},
   "outputs": [],
   "source": [
    "# dois anos regressão\n",
    "previsoes = regressionFunction(consumoTotal[50:2*pontosAno], 6)\n",
    "plt.figure(figsize=(20,10))\n",
    "plt.plot(consumoTotal[50:2*pontosAno], 'green', label='Real')\n",
    "plt.plot(previsoes, 'red', label='Regressão')\n",
    "plt.text(x=10000,y=np.max(consumoTotal[50:2*pontosAno]),s='Maximo Real: '+str(np.around(np.max(consumoTotal[50:2*pontosAno]), 2)), fontsize=20)\n",
    "plt.text(x=10000,y=np.max(consumoTotal[50:2*pontosAno])-3,s='Máximo Regressão: '+str(np.around(np.max(previsoes), 2)), fontsize=20)\n",
    "plt.legend(loc=4)\n",
    "plt.title('Regressão do consumo previsto de 2019 a 2021')\n",
    "plt.savefig('graficos/Regressão_da_previsão_2019_2021.png')\n",
    "plt.show()"
   ]
  },
  {
   "cell_type": "code",
   "execution_count": null,
   "metadata": {},
   "outputs": [],
   "source": [
    "# cinco anos\n",
    "plt.figure(figsize=(20,10))\n",
    "plt.plot(consumoTotal[50:5*pontosAno], color='blue')\n",
    "plt.title('Consumo previsto de 2019 a 2024')\n",
    "plt.text(x=0,y=np.max(consumoTotal[50:5*pontosAno]),s='Maximo: '+str(np.around(np.max(consumoTotal[50:5*pontosAno]), 2)), fontsize=20)\n",
    "plt.savefig('graficos/previsão_2019_2024.png')"
   ]
  },
  {
   "cell_type": "code",
   "execution_count": null,
   "metadata": {},
   "outputs": [],
   "source": [
    "# cinco anos regressão\n",
    "previsoes = regressionFunction(consumoTotal[50:5*pontosAno], 6)\n",
    "plt.figure(figsize=(20,10))\n",
    "plt.plot(consumoTotal[50:5*pontosAno], 'green', label='Real')\n",
    "plt.plot(previsoes, 'red', label='Regressão')\n",
    "plt.text(x=10000,y=np.max(consumoTotal[50:5*pontosAno]),s='Maximo Real: '+str(np.around(np.max(consumoTotal[50:5*pontosAno]), 2)), fontsize=20)\n",
    "plt.text(x=10000,y=np.max(consumoTotal[50:5*pontosAno])-3,s='Máximo Regressão: '+str(np.around(np.max(previsoes), 2)), fontsize=20)\n",
    "plt.legend(loc=4)\n",
    "plt.title('Regressão do consumo previsto de 2019 a 2024')\n",
    "plt.savefig('graficos/Regressão_da_previsão_2019_2024.png')\n",
    "plt.show()"
   ]
  },
  {
   "cell_type": "code",
   "execution_count": null,
   "metadata": {},
   "outputs": [],
   "source": [
    "# dez anos\n",
    "plt.figure(figsize=(20,10))\n",
    "plt.plot(consumoTotal[50:], color='blue')\n",
    "plt.text(x=0,y=np.max(consumoTotal),s='Máximo: '+str(np.around(np.max(consumoTotal), 2)), fontsize=20)\n",
    "plt.title('Consumo previsto de 2019 a 2029')\n",
    "plt.savefig('graficos/previsão_2019_2029.png')"
   ]
  },
  {
   "cell_type": "code",
   "execution_count": null,
   "metadata": {},
   "outputs": [],
   "source": [
    "# dez anos regressão\n",
    "previsoes = regressionFunction(consumoTotal[50:], 6)\n",
    "plt.figure(figsize=(20,10))\n",
    "plt.plot(consumoTotal[50:], 'green', label='Real')\n",
    "plt.plot(previsoes, 'red', label='Regressão')\n",
    "plt.legend(loc=4)\n",
    "plt.text(x=25000,y=np.max(consumoTotal),s='Maximo Real: '+str(np.around(np.max(consumoTotal), 2)), fontsize=20)\n",
    "plt.text(x=25000,y=np.max(consumoTotal)-3,s='Máximo Regressão: '+str(np.around(np.max(previsoes), 2)), fontsize=20)\n",
    "plt.title('Regressão do consumo previsto de 2019 a 2029')\n",
    "plt.savefig('graficos/Regressão_da_previsão_2019_2029.png')\n",
    "plt.show()"
   ]
  }
 ],
 "metadata": {
  "accelerator": "GPU",
  "colab": {
   "collapsed_sections": [],
   "name": "rede_media.ipynb",
   "provenance": [],
   "toc_visible": true
  },
  "kernelspec": {
   "display_name": "Python 3",
   "language": "python",
   "name": "python3"
  },
  "language_info": {
   "codemirror_mode": {
    "name": "ipython",
    "version": 3
   },
   "file_extension": ".py",
   "mimetype": "text/x-python",
   "name": "python",
   "nbconvert_exporter": "python",
   "pygments_lexer": "ipython3",
   "version": "3.8.2"
  }
 },
 "nbformat": 4,
 "nbformat_minor": 1
}
